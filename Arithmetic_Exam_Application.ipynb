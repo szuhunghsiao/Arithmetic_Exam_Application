{
 "cells": [
  {
   "cell_type": "markdown",
   "metadata": {},
   "source": [
    "# Arithmetic Exam Application"
   ]
  },
  {
   "cell_type": "code",
   "execution_count": 1,
   "metadata": {},
   "outputs": [],
   "source": [
    "import random"
   ]
  },
  {
   "cell_type": "markdown",
   "metadata": {},
   "source": [
    "## Define functions"
   ]
  },
  {
   "cell_type": "code",
   "execution_count": 2,
   "metadata": {},
   "outputs": [],
   "source": [
    "def choice():\n",
    "    while True:\n",
    "        print(\"Which level do you want? Enter a number:\")\n",
    "        print('1 - simple operations with numbers 2-9')\n",
    "        print('2 - integral squares of 11-29')\n",
    "        try:\n",
    "            user = int(input())\n",
    "        except ValueError:\n",
    "            print(\"Incorrect format.\")\n",
    "        else:\n",
    "            if user != 1 and user != 2:\n",
    "                print(\"Incorrect format.\")\n",
    "            else:\n",
    "                return user\n",
    "\n",
    "\n",
    "def choose_1():\n",
    "    correct_time = 0\n",
    "    time = 1\n",
    "    while time <= 5:\n",
    "        operation = random.choice(['+', '-', '*'])\n",
    "        num1, num2 = random.randint(2, 9), random.randint(2, 9)\n",
    "        question = str(num1) + f' {operation} ' + str(num2)\n",
    "        print(question)\n",
    "        correct_ans = num1 + num2 if operation == '+' else num1 - num2 if operation == '-' else num1 * num2\n",
    "        sys = False\n",
    "        while not sys:\n",
    "            try:\n",
    "                user_ans = int(input())\n",
    "            except ValueError:\n",
    "                print('Incorrect format.')\n",
    "            else:\n",
    "                if user_ans == correct_ans:\n",
    "                    print('Right!')\n",
    "                    correct_time += 1\n",
    "                else:\n",
    "                    print('Wrong!')\n",
    "                sys = True\n",
    "                time += 1\n",
    "    correct_ratio = str(correct_time) + '/5'\n",
    "    save = input(f'Your mark is {correct_ratio}. Would you like to save the result? Enter yes or no.')\n",
    "    if save.lower() == 'yes' or save.lower() == 'y':\n",
    "        save_name = input('What is your name?')\n",
    "        write_file(correct_ratio, save_name, 1)\n",
    "        print('The results are saved in \"results.txt\"')\n",
    "\n",
    "\n",
    "def choose_2():\n",
    "    correct_time = 0\n",
    "    time = 1\n",
    "    while time <=5:\n",
    "        question = random.randint(11,29)\n",
    "        print(question)\n",
    "        sys = False\n",
    "        while not sys:\n",
    "            try:\n",
    "                user_ans = int(input())\n",
    "            except ValueError:\n",
    "                print('Wrong format! Try again.')\n",
    "            else:\n",
    "                if user_ans == question ** 2:\n",
    "                    print('Right!')\n",
    "                    correct_time += 1\n",
    "                else:\n",
    "                    print('Wrong!')\n",
    "                sys = True\n",
    "                time += 1\n",
    "    correct_ratio = str(correct_time) + '/5'\n",
    "    save = input(f'Your mark is {correct_ratio}. Would you like to save the result? Enter yes or no.')\n",
    "    if save.lower() == 'yes' or save.lower() == 'y':\n",
    "        save_name = input('What is your name?')\n",
    "        write_file(correct_ratio, save_name, 2)\n",
    "        print('The results are saved in \"results.txt\"')\n",
    "\n",
    "\n",
    "def write_file(score, name, level):\n",
    "    if level == 1:\n",
    "        des = 'simple operations with numbers 2-9'\n",
    "    elif level == 2:\n",
    "        des = 'integral squares 11-29'\n",
    "    with open('results.txt', 'a') as f:\n",
    "        f.write(f'{name}: {score} in {level} ({des})\\n')\n",
    "\n",
    "\n",
    "def main():\n",
    "    user_level = choice()\n",
    "    if user_level == 1:\n",
    "        choose_1()\n",
    "    elif user_level == 2:\n",
    "        choose_2()"
   ]
  },
  {
   "cell_type": "code",
   "execution_count": 6,
   "metadata": {},
   "outputs": [
    {
     "name": "stdout",
     "output_type": "stream",
     "text": [
      "Which level do you want? Enter a number:\n",
      "1 - simple operations with numbers 2-9\n",
      "2 - integral squares of 11-29\n"
     ]
    },
    {
     "name": "stdin",
     "output_type": "stream",
     "text": [
      " 3'\n"
     ]
    },
    {
     "name": "stdout",
     "output_type": "stream",
     "text": [
      "Incorrect format.\n",
      "Which level do you want? Enter a number:\n",
      "1 - simple operations with numbers 2-9\n",
      "2 - integral squares of 11-29\n"
     ]
    },
    {
     "name": "stdin",
     "output_type": "stream",
     "text": [
      " 11\n"
     ]
    },
    {
     "name": "stdout",
     "output_type": "stream",
     "text": [
      "Incorrect format.\n",
      "Which level do you want? Enter a number:\n",
      "1 - simple operations with numbers 2-9\n",
      "2 - integral squares of 11-29\n"
     ]
    },
    {
     "name": "stdin",
     "output_type": "stream",
     "text": [
      " 1\n"
     ]
    },
    {
     "name": "stdout",
     "output_type": "stream",
     "text": [
      "7 + 4\n"
     ]
    },
    {
     "name": "stdin",
     "output_type": "stream",
     "text": [
      " 11\n"
     ]
    },
    {
     "name": "stdout",
     "output_type": "stream",
     "text": [
      "Right!\n",
      "3 + 3\n"
     ]
    },
    {
     "name": "stdin",
     "output_type": "stream",
     "text": [
      " 6\n"
     ]
    },
    {
     "name": "stdout",
     "output_type": "stream",
     "text": [
      "Right!\n",
      "2 + 3\n"
     ]
    },
    {
     "name": "stdin",
     "output_type": "stream",
     "text": [
      " 2'\n"
     ]
    },
    {
     "name": "stdout",
     "output_type": "stream",
     "text": [
      "Incorrect format.\n"
     ]
    },
    {
     "name": "stdin",
     "output_type": "stream",
     "text": [
      " 3\n"
     ]
    },
    {
     "name": "stdout",
     "output_type": "stream",
     "text": [
      "Wrong!\n",
      "6 * 8\n"
     ]
    },
    {
     "name": "stdin",
     "output_type": "stream",
     "text": [
      " k\n"
     ]
    },
    {
     "name": "stdout",
     "output_type": "stream",
     "text": [
      "Incorrect format.\n"
     ]
    },
    {
     "name": "stdin",
     "output_type": "stream",
     "text": [
      " as\n"
     ]
    },
    {
     "name": "stdout",
     "output_type": "stream",
     "text": [
      "Incorrect format.\n"
     ]
    },
    {
     "name": "stdin",
     "output_type": "stream",
     "text": [
      " v\n"
     ]
    },
    {
     "name": "stdout",
     "output_type": "stream",
     "text": [
      "Incorrect format.\n"
     ]
    },
    {
     "name": "stdin",
     "output_type": "stream",
     "text": [
      " 48\n"
     ]
    },
    {
     "name": "stdout",
     "output_type": "stream",
     "text": [
      "Right!\n",
      "9 * 6\n"
     ]
    },
    {
     "name": "stdin",
     "output_type": "stream",
     "text": [
      " 54\n"
     ]
    },
    {
     "name": "stdout",
     "output_type": "stream",
     "text": [
      "Right!\n"
     ]
    },
    {
     "name": "stdin",
     "output_type": "stream",
     "text": [
      "Your mark is 4/5. Would you like to save the result? Enter yes or no. no\n"
     ]
    }
   ],
   "source": [
    "if __name__ == '__main__':\n",
    "    main()"
   ]
  }
 ],
 "metadata": {
  "kernelspec": {
   "display_name": "Python 3",
   "language": "python",
   "name": "python3"
  },
  "language_info": {
   "codemirror_mode": {
    "name": "ipython",
    "version": 3
   },
   "file_extension": ".py",
   "mimetype": "text/x-python",
   "name": "python",
   "nbconvert_exporter": "python",
   "pygments_lexer": "ipython3",
   "version": "3.8.5"
  }
 },
 "nbformat": 4,
 "nbformat_minor": 4
}
